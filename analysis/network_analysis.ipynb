{
 "cells": [
  {
   "cell_type": "code",
   "execution_count": 238,
   "metadata": {},
   "outputs": [],
   "source": [
    "import pandas as pd\n",
    "import numpy as np\n",
    "\n",
    "import networkx as nx\n",
    "from pyvis.network import Network\n",
    "import itertools"
   ]
  },
  {
   "cell_type": "code",
   "execution_count": 239,
   "metadata": {},
   "outputs": [],
   "source": [
    "df = pd.read_csv('Rowing Availabilities Test - Novice_Availabilities.csv')"
   ]
  },
  {
   "cell_type": "code",
   "execution_count": 240,
   "metadata": {},
   "outputs": [],
   "source": [
    "df = df.drop(['experience','keen to learn','comments'], axis=1).set_index('name')"
   ]
  },
  {
   "cell_type": "code",
   "execution_count": 241,
   "metadata": {},
   "outputs": [],
   "source": [
    "slots = []\n",
    "\n",
    "for time in df.columns:\n",
    "    X = df[df[time] == True].index\n",
    "    Y = list(itertools.combinations(X,2))\n",
    "    Z = [y + (time,) for y in Y]\n",
    "    slots += Z\n",
    "    \n",
    "slots_df = pd.DataFrame(slots, columns=['Rower 1','Rower 2','Time'])"
   ]
  },
  {
   "cell_type": "code",
   "execution_count": 242,
   "metadata": {},
   "outputs": [
    {
     "data": {
      "text/html": [
       "\n",
       "        <iframe\n",
       "            width=\"500px\"\n",
       "            height=\"500px\"\n",
       "            src=\"possible slots.html\"\n",
       "            frameborder=\"0\"\n",
       "            allowfullscreen\n",
       "        ></iframe>\n",
       "        "
      ],
      "text/plain": [
       "<IPython.lib.display.IFrame at 0x23425677760>"
      ]
     },
     "execution_count": 242,
     "metadata": {},
     "output_type": "execute_result"
    }
   ],
   "source": [
    "G = nx.from_pandas_edgelist(slots_df, 'Rower 1', 'Rower 2')\n",
    "net = Network(notebook=True)\n",
    "net.from_nx(G)\n",
    "net.show(\"possible slots.html\")"
   ]
  },
  {
   "cell_type": "code",
   "execution_count": 243,
   "metadata": {},
   "outputs": [],
   "source": [
    "matchings = nx.algorithms.matching.maximal_matching(G)\n",
    "matchings_df = pd.DataFrame(matchings, columns=['Rower 1','Rower 2'])"
   ]
  },
  {
   "cell_type": "code",
   "execution_count": 244,
   "metadata": {},
   "outputs": [
    {
     "data": {
      "text/html": [
       "\n",
       "        <iframe\n",
       "            width=\"500px\"\n",
       "            height=\"500px\"\n",
       "            src=\"solution.html\"\n",
       "            frameborder=\"0\"\n",
       "            allowfullscreen\n",
       "        ></iframe>\n",
       "        "
      ],
      "text/plain": [
       "<IPython.lib.display.IFrame at 0x234256cfe80>"
      ]
     },
     "execution_count": 244,
     "metadata": {},
     "output_type": "execute_result"
    }
   ],
   "source": [
    "G = nx.from_pandas_edgelist(matchings_df, 'Rower 1', 'Rower 2')\n",
    "net = Network(notebook=True)\n",
    "net.from_nx(G)\n",
    "net.show(\"solution.html\")"
   ]
  },
  {
   "cell_type": "code",
   "execution_count": 245,
   "metadata": {},
   "outputs": [
    {
     "data": {
      "text/html": [
       "<div>\n",
       "<style scoped>\n",
       "    .dataframe tbody tr th:only-of-type {\n",
       "        vertical-align: middle;\n",
       "    }\n",
       "\n",
       "    .dataframe tbody tr th {\n",
       "        vertical-align: top;\n",
       "    }\n",
       "\n",
       "    .dataframe thead th {\n",
       "        text-align: right;\n",
       "    }\n",
       "</style>\n",
       "<table border=\"1\" class=\"dataframe\">\n",
       "  <thead>\n",
       "    <tr style=\"text-align: right;\">\n",
       "      <th></th>\n",
       "      <th>Rower 1</th>\n",
       "      <th>Rower 2</th>\n",
       "      <th>times</th>\n",
       "    </tr>\n",
       "  </thead>\n",
       "  <tbody>\n",
       "    <tr>\n",
       "      <th>0</th>\n",
       "      <td>ella</td>\n",
       "      <td>harriet</td>\n",
       "      <td>[Monday 14:00, Monday 18:00, Thu 9:00]</td>\n",
       "    </tr>\n",
       "    <tr>\n",
       "      <th>1</th>\n",
       "      <td>jess</td>\n",
       "      <td>francis</td>\n",
       "      <td>[Fri 9:00]</td>\n",
       "    </tr>\n",
       "    <tr>\n",
       "      <th>2</th>\n",
       "      <td>natalie</td>\n",
       "      <td>olive</td>\n",
       "      <td>[Monday 9:00, Monday 14:00]</td>\n",
       "    </tr>\n",
       "    <tr>\n",
       "      <th>3</th>\n",
       "      <td>darcy</td>\n",
       "      <td>gail</td>\n",
       "      <td>[Monday 9:00, Tuesday 18:00]</td>\n",
       "    </tr>\n",
       "    <tr>\n",
       "      <th>4</th>\n",
       "      <td>anne</td>\n",
       "      <td>clare</td>\n",
       "      <td>[Monday 9:00, Monday 14:00, Wed 18:00]</td>\n",
       "    </tr>\n",
       "    <tr>\n",
       "      <th>5</th>\n",
       "      <td>priya</td>\n",
       "      <td>beth</td>\n",
       "      <td>[Monday 18:00, Tuesday 9:00]</td>\n",
       "    </tr>\n",
       "    <tr>\n",
       "      <th>6</th>\n",
       "      <td>izzy</td>\n",
       "      <td>milly</td>\n",
       "      <td>[Monday 9:00, Wed 18:00]</td>\n",
       "    </tr>\n",
       "  </tbody>\n",
       "</table>\n",
       "</div>"
      ],
      "text/plain": [
       "   Rower 1  Rower 2                                   times\n",
       "0     ella  harriet  [Monday 14:00, Monday 18:00, Thu 9:00]\n",
       "1     jess  francis                              [Fri 9:00]\n",
       "2  natalie    olive             [Monday 9:00, Monday 14:00]\n",
       "3    darcy     gail            [Monday 9:00, Tuesday 18:00]\n",
       "4     anne    clare  [Monday 9:00, Monday 14:00, Wed 18:00]\n",
       "5    priya     beth            [Monday 18:00, Tuesday 9:00]\n",
       "6     izzy    milly                [Monday 9:00, Wed 18:00]"
      ]
     },
     "execution_count": 245,
     "metadata": {},
     "output_type": "execute_result"
    }
   ],
   "source": [
    "match_times = []\n",
    "\n",
    "for match in matchings:\n",
    "    times = []\n",
    "    df3 = df.loc[match,:]\n",
    "    for time in df.columns:\n",
    "        if df3[time].all():\n",
    "            times.append(time)\n",
    "    match_times.append(times)\n",
    "    \n",
    "matchings_df['times'] = match_times\n",
    "matchings_df"
   ]
  }
 ],
 "metadata": {
  "kernelspec": {
   "display_name": "Python 3",
   "language": "python",
   "name": "python3"
  },
  "language_info": {
   "codemirror_mode": {
    "name": "ipython",
    "version": 3
   },
   "file_extension": ".py",
   "mimetype": "text/x-python",
   "name": "python",
   "nbconvert_exporter": "python",
   "pygments_lexer": "ipython3",
   "version": "3.8.3"
  }
 },
 "nbformat": 4,
 "nbformat_minor": 4
}
